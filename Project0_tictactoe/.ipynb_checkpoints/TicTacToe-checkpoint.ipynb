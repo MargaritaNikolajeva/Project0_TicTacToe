{
 "cells": [
  {
   "cell_type": "markdown",
   "id": "4574511e",
   "metadata": {},
   "source": [
    "# Крестики нолики"
   ]
  },
  {
   "cell_type": "code",
   "execution_count": null,
   "id": "d77a86ab",
   "metadata": {},
   "outputs": [
    {
     "name": "stdout",
     "output_type": "stream",
     "text": [
      "_______\n",
      "  0 1 2\n",
      "0      \n",
      "1      \n",
      "2      \n",
      "_______\n"
     ]
    }
   ],
   "source": [
    "grid = [[\" \"]*3 for i in range(3)]\n",
    "\n",
    "def show_grid():\n",
    "    print(\"_______\")\n",
    "    print(\" \" *2 + \"0 1 2\")\n",
    "   \n",
    "    for index,value in enumerate(grid):\n",
    "        print(f\"{index} {' '.join(map(str, value))}\")\n",
    "    print(\"_______\")\n",
    "\n",
    "def ask_coord():\n",
    "    while True:\n",
    "        a, b = map(int,(input(\"Ваш ход:\").split()))\n",
    "        if a<=2 and a>=0 and b<=2 and b>=0:\n",
    "            if grid[a][b] != \" \":\n",
    "                print(\"Клетка занята\")\n",
    "                show_grid()\n",
    "            else:\n",
    "                return a, b\n",
    "        else:\n",
    "            print(\"Неверный ход\")\n",
    "            show_grid()\n",
    "\n",
    "def win_combinations(winner_sign):\n",
    "    if (((grid[0][0]==winner_sign) and (grid[0][1]==winner_sign) and (grid[0][2]==winner_sign)) or\n",
    "        ((grid[1][0]==winner_sign) and (grid[1][1]==winner_sign) and (grid[1][2]==winner_sign)) or\n",
    "        ((grid[2][0]==winner_sign) and (grid[2][1]==winner_sign) and (grid[2][2]==winner_sign)) or\n",
    "        ((grid[0][0]==winner_sign) and (grid[1][0]==winner_sign) and (grid[2][0]==winner_sign)) or\n",
    "        ((grid[0][1]==winner_sign) and (grid[1][1]==winner_sign) and (grid[2][1]==winner_sign)) or\n",
    "        ((grid[0][2]==winner_sign) and (grid[1][2]==winner_sign) and (grid[2][2]==winner_sign)) or\n",
    "        ((grid[0][0]==winner_sign) and (grid[1][1]==winner_sign) and (grid[2][2]==winner_sign)) or\n",
    "        ((grid[2][0]==winner_sign) and (grid[1][1]==winner_sign) and (grid[0][2]==winner_sign))):\n",
    "        return True\n",
    "    else:\n",
    "        return False\n",
    "\n",
    "def game():\n",
    "    count = 0\n",
    "    while True:\n",
    "        show_grid()\n",
    "        move = ask_coord()\n",
    "        if count % 2 == 0:\n",
    "            grid[move[0]][move[1]] = \"X\"\n",
    "            first_player = win_combinations(\"X\")\n",
    "            if first_player == True:\n",
    "                print(\"Выиграл игрок X\")\n",
    "                show_grid()\n",
    "                break\n",
    "            count += 1\n",
    "        else:\n",
    "            grid[move[0]][move[1]] = \"O\"\n",
    "            second_player = win_combinations(\"O\")\n",
    "            if second_player == True:\n",
    "                print(\"Выиграл игрок 0\")\n",
    "                show_grid()\n",
    "                break\n",
    "            count += 1\n",
    "   \n",
    "game()"
   ]
  },
  {
   "cell_type": "code",
   "execution_count": null,
   "id": "8e9ade6e",
   "metadata": {},
   "outputs": [],
   "source": []
  }
 ],
 "metadata": {
  "kernelspec": {
   "display_name": "Python 3",
   "language": "python",
   "name": "python3"
  },
  "language_info": {
   "codemirror_mode": {
    "name": "ipython",
    "version": 3
   },
   "file_extension": ".py",
   "mimetype": "text/x-python",
   "name": "python",
   "nbconvert_exporter": "python",
   "pygments_lexer": "ipython3",
   "version": "3.8.8"
  }
 },
 "nbformat": 4,
 "nbformat_minor": 5
}
